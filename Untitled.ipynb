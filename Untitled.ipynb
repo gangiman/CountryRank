{
 "cells": [
  {
   "cell_type": "code",
   "execution_count": 1,
   "metadata": {},
   "outputs": [],
   "source": [
    "from rankings.dbr import DoingBuisnessReview\n"
   ]
  },
  {
   "cell_type": "code",
   "execution_count": 2,
   "metadata": {},
   "outputs": [],
   "source": [
    "dtr = DoingBuisnessReview()"
   ]
  },
  {
   "cell_type": "code",
   "execution_count": 3,
   "metadata": {},
   "outputs": [
    {
     "data": {
      "text/plain": [
       "Economy\n",
       "New Zealand             0.0\n",
       "Singapore               0.0\n",
       "Hong Kong SAR, China    0.0\n",
       "Denmark                 0.0\n",
       "Korea, Rep.             0.0\n",
       "                       ... \n",
       "Libya                   0.0\n",
       "Yemen, Rep.             0.0\n",
       "Venezuela, RB           0.0\n",
       "Eritrea                 0.0\n",
       "Somalia                 0.0\n",
       "Length: 190, dtype: float64"
      ]
     },
     "execution_count": 3,
     "metadata": {},
     "output_type": "execute_result"
    }
   ],
   "source": [
    "dtr.get_norm_ranking()"
   ]
  }
 ],
 "metadata": {
  "kernelspec": {
   "display_name": "Python 3",
   "language": "python",
   "name": "python3"
  },
  "language_info": {
   "codemirror_mode": {
    "name": "ipython",
    "version": 3
   },
   "file_extension": ".py",
   "mimetype": "text/x-python",
   "name": "python",
   "nbconvert_exporter": "python",
   "pygments_lexer": "ipython3",
   "version": "3.7.6"
  }
 },
 "nbformat": 4,
 "nbformat_minor": 4
}
